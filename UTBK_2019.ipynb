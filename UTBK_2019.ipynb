{
  "nbformat": 4,
  "nbformat_minor": 0,
  "metadata": {
    "colab": {
      "name": "UTBK 2019.ipynb",
      "provenance": [],
      "collapsed_sections": [],
      "authorship_tag": "ABX9TyN6bHgs2ClbmXwMXeSXDwN0",
      "include_colab_link": true
    },
    "kernelspec": {
      "name": "python3",
      "display_name": "Python 3"
    },
    "language_info": {
      "name": "python"
    }
  },
  "cells": [
    {
      "cell_type": "markdown",
      "metadata": {
        "id": "view-in-github",
        "colab_type": "text"
      },
      "source": [
        "<a href=\"https://colab.research.google.com/github/Peksyaji/UTBK-2019/blob/main/UTBK_2019.ipynb\" target=\"_parent\"><img src=\"https://colab.research.google.com/assets/colab-badge.svg\" alt=\"Open In Colab\"/></a>"
      ]
    },
    {
      "cell_type": "code",
      "execution_count": null,
      "metadata": {
        "id": "ZRloVTGhkddo"
      },
      "outputs": [],
      "source": [
        "import pandas as pd\n",
        "import seaborn as sns\n",
        "import matplotlib.pyplot as plt"
      ]
    },
    {
      "cell_type": "code",
      "source": [
        "saintek = pd.read_csv('https://raw.githubusercontent.com/Peksyaji/UTBK-2019/main/score_science.csv')\n",
        "saintek.head()"
      ],
      "metadata": {
        "colab": {
          "base_uri": "https://localhost:8080/",
          "height": 267
        },
        "id": "LONhGv1-qZmB",
        "outputId": "ab393903-b84f-4fa8-f48e-ec055734e698"
      },
      "execution_count": null,
      "outputs": [
        {
          "output_type": "execute_result",
          "data": {
            "text/html": [
              "\n",
              "  <div id=\"df-5aa7ae15-6a54-4b2d-94e2-133005a6b59b\">\n",
              "    <div class=\"colab-df-container\">\n",
              "      <div>\n",
              "<style scoped>\n",
              "    .dataframe tbody tr th:only-of-type {\n",
              "        vertical-align: middle;\n",
              "    }\n",
              "\n",
              "    .dataframe tbody tr th {\n",
              "        vertical-align: top;\n",
              "    }\n",
              "\n",
              "    .dataframe thead th {\n",
              "        text-align: right;\n",
              "    }\n",
              "</style>\n",
              "<table border=\"1\" class=\"dataframe\">\n",
              "  <thead>\n",
              "    <tr style=\"text-align: right;\">\n",
              "      <th></th>\n",
              "      <th>Unnamed: 0</th>\n",
              "      <th>id_first_major</th>\n",
              "      <th>id_first_university</th>\n",
              "      <th>id_second_major</th>\n",
              "      <th>id_second_university</th>\n",
              "      <th>id_user</th>\n",
              "      <th>score_bio</th>\n",
              "      <th>score_fis</th>\n",
              "      <th>score_kim</th>\n",
              "      <th>score_kmb</th>\n",
              "      <th>score_kpu</th>\n",
              "      <th>score_kua</th>\n",
              "      <th>score_mat</th>\n",
              "      <th>score_ppu</th>\n",
              "    </tr>\n",
              "  </thead>\n",
              "  <tbody>\n",
              "    <tr>\n",
              "      <th>0</th>\n",
              "      <td>0</td>\n",
              "      <td>3321065</td>\n",
              "      <td>332</td>\n",
              "      <td>3331187</td>\n",
              "      <td>333</td>\n",
              "      <td>4</td>\n",
              "      <td>400</td>\n",
              "      <td>400</td>\n",
              "      <td>400</td>\n",
              "      <td>400</td>\n",
              "      <td>400</td>\n",
              "      <td>400</td>\n",
              "      <td>400</td>\n",
              "      <td>400</td>\n",
              "    </tr>\n",
              "    <tr>\n",
              "      <th>1</th>\n",
              "      <td>1</td>\n",
              "      <td>3211015</td>\n",
              "      <td>321</td>\n",
              "      <td>3611066</td>\n",
              "      <td>361</td>\n",
              "      <td>14</td>\n",
              "      <td>816</td>\n",
              "      <td>666</td>\n",
              "      <td>651</td>\n",
              "      <td>678</td>\n",
              "      <td>685</td>\n",
              "      <td>706</td>\n",
              "      <td>695</td>\n",
              "      <td>562</td>\n",
              "    </tr>\n",
              "    <tr>\n",
              "      <th>2</th>\n",
              "      <td>2</td>\n",
              "      <td>3721093</td>\n",
              "      <td>372</td>\n",
              "      <td>3551302</td>\n",
              "      <td>355</td>\n",
              "      <td>19</td>\n",
              "      <td>562</td>\n",
              "      <td>839</td>\n",
              "      <td>624</td>\n",
              "      <td>700</td>\n",
              "      <td>781</td>\n",
              "      <td>464</td>\n",
              "      <td>551</td>\n",
              "      <td>668</td>\n",
              "    </tr>\n",
              "    <tr>\n",
              "      <th>3</th>\n",
              "      <td>3</td>\n",
              "      <td>3321096</td>\n",
              "      <td>332</td>\n",
              "      <td>3551194</td>\n",
              "      <td>355</td>\n",
              "      <td>23</td>\n",
              "      <td>700</td>\n",
              "      <td>669</td>\n",
              "      <td>692</td>\n",
              "      <td>679</td>\n",
              "      <td>692</td>\n",
              "      <td>813</td>\n",
              "      <td>507</td>\n",
              "      <td>573</td>\n",
              "    </tr>\n",
              "    <tr>\n",
              "      <th>4</th>\n",
              "      <td>4</td>\n",
              "      <td>5211104</td>\n",
              "      <td>521</td>\n",
              "      <td>5211085</td>\n",
              "      <td>521</td>\n",
              "      <td>28</td>\n",
              "      <td>461</td>\n",
              "      <td>619</td>\n",
              "      <td>441</td>\n",
              "      <td>593</td>\n",
              "      <td>563</td>\n",
              "      <td>500</td>\n",
              "      <td>666</td>\n",
              "      <td>370</td>\n",
              "    </tr>\n",
              "  </tbody>\n",
              "</table>\n",
              "</div>\n",
              "      <button class=\"colab-df-convert\" onclick=\"convertToInteractive('df-5aa7ae15-6a54-4b2d-94e2-133005a6b59b')\"\n",
              "              title=\"Convert this dataframe to an interactive table.\"\n",
              "              style=\"display:none;\">\n",
              "        \n",
              "  <svg xmlns=\"http://www.w3.org/2000/svg\" height=\"24px\"viewBox=\"0 0 24 24\"\n",
              "       width=\"24px\">\n",
              "    <path d=\"M0 0h24v24H0V0z\" fill=\"none\"/>\n",
              "    <path d=\"M18.56 5.44l.94 2.06.94-2.06 2.06-.94-2.06-.94-.94-2.06-.94 2.06-2.06.94zm-11 1L8.5 8.5l.94-2.06 2.06-.94-2.06-.94L8.5 2.5l-.94 2.06-2.06.94zm10 10l.94 2.06.94-2.06 2.06-.94-2.06-.94-.94-2.06-.94 2.06-2.06.94z\"/><path d=\"M17.41 7.96l-1.37-1.37c-.4-.4-.92-.59-1.43-.59-.52 0-1.04.2-1.43.59L10.3 9.45l-7.72 7.72c-.78.78-.78 2.05 0 2.83L4 21.41c.39.39.9.59 1.41.59.51 0 1.02-.2 1.41-.59l7.78-7.78 2.81-2.81c.8-.78.8-2.07 0-2.86zM5.41 20L4 18.59l7.72-7.72 1.47 1.35L5.41 20z\"/>\n",
              "  </svg>\n",
              "      </button>\n",
              "      \n",
              "  <style>\n",
              "    .colab-df-container {\n",
              "      display:flex;\n",
              "      flex-wrap:wrap;\n",
              "      gap: 12px;\n",
              "    }\n",
              "\n",
              "    .colab-df-convert {\n",
              "      background-color: #E8F0FE;\n",
              "      border: none;\n",
              "      border-radius: 50%;\n",
              "      cursor: pointer;\n",
              "      display: none;\n",
              "      fill: #1967D2;\n",
              "      height: 32px;\n",
              "      padding: 0 0 0 0;\n",
              "      width: 32px;\n",
              "    }\n",
              "\n",
              "    .colab-df-convert:hover {\n",
              "      background-color: #E2EBFA;\n",
              "      box-shadow: 0px 1px 2px rgba(60, 64, 67, 0.3), 0px 1px 3px 1px rgba(60, 64, 67, 0.15);\n",
              "      fill: #174EA6;\n",
              "    }\n",
              "\n",
              "    [theme=dark] .colab-df-convert {\n",
              "      background-color: #3B4455;\n",
              "      fill: #D2E3FC;\n",
              "    }\n",
              "\n",
              "    [theme=dark] .colab-df-convert:hover {\n",
              "      background-color: #434B5C;\n",
              "      box-shadow: 0px 1px 3px 1px rgba(0, 0, 0, 0.15);\n",
              "      filter: drop-shadow(0px 1px 2px rgba(0, 0, 0, 0.3));\n",
              "      fill: #FFFFFF;\n",
              "    }\n",
              "  </style>\n",
              "\n",
              "      <script>\n",
              "        const buttonEl =\n",
              "          document.querySelector('#df-5aa7ae15-6a54-4b2d-94e2-133005a6b59b button.colab-df-convert');\n",
              "        buttonEl.style.display =\n",
              "          google.colab.kernel.accessAllowed ? 'block' : 'none';\n",
              "\n",
              "        async function convertToInteractive(key) {\n",
              "          const element = document.querySelector('#df-5aa7ae15-6a54-4b2d-94e2-133005a6b59b');\n",
              "          const dataTable =\n",
              "            await google.colab.kernel.invokeFunction('convertToInteractive',\n",
              "                                                     [key], {});\n",
              "          if (!dataTable) return;\n",
              "\n",
              "          const docLinkHtml = 'Like what you see? Visit the ' +\n",
              "            '<a target=\"_blank\" href=https://colab.research.google.com/notebooks/data_table.ipynb>data table notebook</a>'\n",
              "            + ' to learn more about interactive tables.';\n",
              "          element.innerHTML = '';\n",
              "          dataTable['output_type'] = 'display_data';\n",
              "          await google.colab.output.renderOutput(dataTable, element);\n",
              "          const docLink = document.createElement('div');\n",
              "          docLink.innerHTML = docLinkHtml;\n",
              "          element.appendChild(docLink);\n",
              "        }\n",
              "      </script>\n",
              "    </div>\n",
              "  </div>\n",
              "  "
            ],
            "text/plain": [
              "   Unnamed: 0  id_first_major  ...  score_mat  score_ppu\n",
              "0           0         3321065  ...        400        400\n",
              "1           1         3211015  ...        695        562\n",
              "2           2         3721093  ...        551        668\n",
              "3           3         3321096  ...        507        573\n",
              "4           4         5211104  ...        666        370\n",
              "\n",
              "[5 rows x 14 columns]"
            ]
          },
          "metadata": {},
          "execution_count": 20
        }
      ]
    },
    {
      "cell_type": "code",
      "source": [
        "saintek = saintek.drop(['Unnamed: 0','id_first_major','id_first_university','id_second_major','id_second_university','id_user'],axis=1)\n",
        "saintek.head()"
      ],
      "metadata": {
        "colab": {
          "base_uri": "https://localhost:8080/",
          "height": 206
        },
        "id": "PlWERoYNrZP_",
        "outputId": "8dd02af8-ae83-4b5c-bcee-24d67f1fe8a9"
      },
      "execution_count": null,
      "outputs": [
        {
          "output_type": "execute_result",
          "data": {
            "text/html": [
              "\n",
              "  <div id=\"df-8b4a67c0-c193-4d69-a0e7-02a6b78eb1f0\">\n",
              "    <div class=\"colab-df-container\">\n",
              "      <div>\n",
              "<style scoped>\n",
              "    .dataframe tbody tr th:only-of-type {\n",
              "        vertical-align: middle;\n",
              "    }\n",
              "\n",
              "    .dataframe tbody tr th {\n",
              "        vertical-align: top;\n",
              "    }\n",
              "\n",
              "    .dataframe thead th {\n",
              "        text-align: right;\n",
              "    }\n",
              "</style>\n",
              "<table border=\"1\" class=\"dataframe\">\n",
              "  <thead>\n",
              "    <tr style=\"text-align: right;\">\n",
              "      <th></th>\n",
              "      <th>score_bio</th>\n",
              "      <th>score_fis</th>\n",
              "      <th>score_kim</th>\n",
              "      <th>score_kmb</th>\n",
              "      <th>score_kpu</th>\n",
              "      <th>score_kua</th>\n",
              "      <th>score_mat</th>\n",
              "      <th>score_ppu</th>\n",
              "    </tr>\n",
              "  </thead>\n",
              "  <tbody>\n",
              "    <tr>\n",
              "      <th>0</th>\n",
              "      <td>400</td>\n",
              "      <td>400</td>\n",
              "      <td>400</td>\n",
              "      <td>400</td>\n",
              "      <td>400</td>\n",
              "      <td>400</td>\n",
              "      <td>400</td>\n",
              "      <td>400</td>\n",
              "    </tr>\n",
              "    <tr>\n",
              "      <th>1</th>\n",
              "      <td>816</td>\n",
              "      <td>666</td>\n",
              "      <td>651</td>\n",
              "      <td>678</td>\n",
              "      <td>685</td>\n",
              "      <td>706</td>\n",
              "      <td>695</td>\n",
              "      <td>562</td>\n",
              "    </tr>\n",
              "    <tr>\n",
              "      <th>2</th>\n",
              "      <td>562</td>\n",
              "      <td>839</td>\n",
              "      <td>624</td>\n",
              "      <td>700</td>\n",
              "      <td>781</td>\n",
              "      <td>464</td>\n",
              "      <td>551</td>\n",
              "      <td>668</td>\n",
              "    </tr>\n",
              "    <tr>\n",
              "      <th>3</th>\n",
              "      <td>700</td>\n",
              "      <td>669</td>\n",
              "      <td>692</td>\n",
              "      <td>679</td>\n",
              "      <td>692</td>\n",
              "      <td>813</td>\n",
              "      <td>507</td>\n",
              "      <td>573</td>\n",
              "    </tr>\n",
              "    <tr>\n",
              "      <th>4</th>\n",
              "      <td>461</td>\n",
              "      <td>619</td>\n",
              "      <td>441</td>\n",
              "      <td>593</td>\n",
              "      <td>563</td>\n",
              "      <td>500</td>\n",
              "      <td>666</td>\n",
              "      <td>370</td>\n",
              "    </tr>\n",
              "  </tbody>\n",
              "</table>\n",
              "</div>\n",
              "      <button class=\"colab-df-convert\" onclick=\"convertToInteractive('df-8b4a67c0-c193-4d69-a0e7-02a6b78eb1f0')\"\n",
              "              title=\"Convert this dataframe to an interactive table.\"\n",
              "              style=\"display:none;\">\n",
              "        \n",
              "  <svg xmlns=\"http://www.w3.org/2000/svg\" height=\"24px\"viewBox=\"0 0 24 24\"\n",
              "       width=\"24px\">\n",
              "    <path d=\"M0 0h24v24H0V0z\" fill=\"none\"/>\n",
              "    <path d=\"M18.56 5.44l.94 2.06.94-2.06 2.06-.94-2.06-.94-.94-2.06-.94 2.06-2.06.94zm-11 1L8.5 8.5l.94-2.06 2.06-.94-2.06-.94L8.5 2.5l-.94 2.06-2.06.94zm10 10l.94 2.06.94-2.06 2.06-.94-2.06-.94-.94-2.06-.94 2.06-2.06.94z\"/><path d=\"M17.41 7.96l-1.37-1.37c-.4-.4-.92-.59-1.43-.59-.52 0-1.04.2-1.43.59L10.3 9.45l-7.72 7.72c-.78.78-.78 2.05 0 2.83L4 21.41c.39.39.9.59 1.41.59.51 0 1.02-.2 1.41-.59l7.78-7.78 2.81-2.81c.8-.78.8-2.07 0-2.86zM5.41 20L4 18.59l7.72-7.72 1.47 1.35L5.41 20z\"/>\n",
              "  </svg>\n",
              "      </button>\n",
              "      \n",
              "  <style>\n",
              "    .colab-df-container {\n",
              "      display:flex;\n",
              "      flex-wrap:wrap;\n",
              "      gap: 12px;\n",
              "    }\n",
              "\n",
              "    .colab-df-convert {\n",
              "      background-color: #E8F0FE;\n",
              "      border: none;\n",
              "      border-radius: 50%;\n",
              "      cursor: pointer;\n",
              "      display: none;\n",
              "      fill: #1967D2;\n",
              "      height: 32px;\n",
              "      padding: 0 0 0 0;\n",
              "      width: 32px;\n",
              "    }\n",
              "\n",
              "    .colab-df-convert:hover {\n",
              "      background-color: #E2EBFA;\n",
              "      box-shadow: 0px 1px 2px rgba(60, 64, 67, 0.3), 0px 1px 3px 1px rgba(60, 64, 67, 0.15);\n",
              "      fill: #174EA6;\n",
              "    }\n",
              "\n",
              "    [theme=dark] .colab-df-convert {\n",
              "      background-color: #3B4455;\n",
              "      fill: #D2E3FC;\n",
              "    }\n",
              "\n",
              "    [theme=dark] .colab-df-convert:hover {\n",
              "      background-color: #434B5C;\n",
              "      box-shadow: 0px 1px 3px 1px rgba(0, 0, 0, 0.15);\n",
              "      filter: drop-shadow(0px 1px 2px rgba(0, 0, 0, 0.3));\n",
              "      fill: #FFFFFF;\n",
              "    }\n",
              "  </style>\n",
              "\n",
              "      <script>\n",
              "        const buttonEl =\n",
              "          document.querySelector('#df-8b4a67c0-c193-4d69-a0e7-02a6b78eb1f0 button.colab-df-convert');\n",
              "        buttonEl.style.display =\n",
              "          google.colab.kernel.accessAllowed ? 'block' : 'none';\n",
              "\n",
              "        async function convertToInteractive(key) {\n",
              "          const element = document.querySelector('#df-8b4a67c0-c193-4d69-a0e7-02a6b78eb1f0');\n",
              "          const dataTable =\n",
              "            await google.colab.kernel.invokeFunction('convertToInteractive',\n",
              "                                                     [key], {});\n",
              "          if (!dataTable) return;\n",
              "\n",
              "          const docLinkHtml = 'Like what you see? Visit the ' +\n",
              "            '<a target=\"_blank\" href=https://colab.research.google.com/notebooks/data_table.ipynb>data table notebook</a>'\n",
              "            + ' to learn more about interactive tables.';\n",
              "          element.innerHTML = '';\n",
              "          dataTable['output_type'] = 'display_data';\n",
              "          await google.colab.output.renderOutput(dataTable, element);\n",
              "          const docLink = document.createElement('div');\n",
              "          docLink.innerHTML = docLinkHtml;\n",
              "          element.appendChild(docLink);\n",
              "        }\n",
              "      </script>\n",
              "    </div>\n",
              "  </div>\n",
              "  "
            ],
            "text/plain": [
              "   score_bio  score_fis  score_kim  ...  score_kua  score_mat  score_ppu\n",
              "0        400        400        400  ...        400        400        400\n",
              "1        816        666        651  ...        706        695        562\n",
              "2        562        839        624  ...        464        551        668\n",
              "3        700        669        692  ...        813        507        573\n",
              "4        461        619        441  ...        500        666        370\n",
              "\n",
              "[5 rows x 8 columns]"
            ]
          },
          "metadata": {},
          "execution_count": 21
        }
      ]
    },
    {
      "cell_type": "code",
      "source": [
        "saintek.info()"
      ],
      "metadata": {
        "colab": {
          "base_uri": "https://localhost:8080/"
        },
        "id": "kmHf0e8MsHX_",
        "outputId": "ccf77201-ea04-4d2b-a5a1-c08a89ecf4f6"
      },
      "execution_count": null,
      "outputs": [
        {
          "output_type": "stream",
          "name": "stdout",
          "text": [
            "<class 'pandas.core.frame.DataFrame'>\n",
            "RangeIndex: 86570 entries, 0 to 86569\n",
            "Data columns (total 8 columns):\n",
            " #   Column     Non-Null Count  Dtype\n",
            "---  ------     --------------  -----\n",
            " 0   score_bio  86570 non-null  int64\n",
            " 1   score_fis  86570 non-null  int64\n",
            " 2   score_kim  86570 non-null  int64\n",
            " 3   score_kmb  86570 non-null  int64\n",
            " 4   score_kpu  86570 non-null  int64\n",
            " 5   score_kua  86570 non-null  int64\n",
            " 6   score_mat  86570 non-null  int64\n",
            " 7   score_ppu  86570 non-null  int64\n",
            "dtypes: int64(8)\n",
            "memory usage: 5.3 MB\n"
          ]
        }
      ]
    },
    {
      "cell_type": "code",
      "source": [
        "saintek.describe()"
      ],
      "metadata": {
        "colab": {
          "base_uri": "https://localhost:8080/",
          "height": 300
        },
        "id": "XFKV5ReIs7NW",
        "outputId": "37d508ba-6eca-4114-c6fd-893f76a6cb07"
      },
      "execution_count": null,
      "outputs": [
        {
          "output_type": "execute_result",
          "data": {
            "text/html": [
              "\n",
              "  <div id=\"df-c1942942-4a17-4ded-b3da-4dbb46bd9850\">\n",
              "    <div class=\"colab-df-container\">\n",
              "      <div>\n",
              "<style scoped>\n",
              "    .dataframe tbody tr th:only-of-type {\n",
              "        vertical-align: middle;\n",
              "    }\n",
              "\n",
              "    .dataframe tbody tr th {\n",
              "        vertical-align: top;\n",
              "    }\n",
              "\n",
              "    .dataframe thead th {\n",
              "        text-align: right;\n",
              "    }\n",
              "</style>\n",
              "<table border=\"1\" class=\"dataframe\">\n",
              "  <thead>\n",
              "    <tr style=\"text-align: right;\">\n",
              "      <th></th>\n",
              "      <th>score_bio</th>\n",
              "      <th>score_fis</th>\n",
              "      <th>score_kim</th>\n",
              "      <th>score_kmb</th>\n",
              "      <th>score_kpu</th>\n",
              "      <th>score_kua</th>\n",
              "      <th>score_mat</th>\n",
              "      <th>score_ppu</th>\n",
              "    </tr>\n",
              "  </thead>\n",
              "  <tbody>\n",
              "    <tr>\n",
              "      <th>count</th>\n",
              "      <td>86570.000000</td>\n",
              "      <td>86570.000000</td>\n",
              "      <td>86570.000000</td>\n",
              "      <td>86570.000000</td>\n",
              "      <td>86570.000000</td>\n",
              "      <td>86570.000000</td>\n",
              "      <td>86570.000000</td>\n",
              "      <td>86570.000000</td>\n",
              "    </tr>\n",
              "    <tr>\n",
              "      <th>mean</th>\n",
              "      <td>537.140522</td>\n",
              "      <td>539.335312</td>\n",
              "      <td>544.598036</td>\n",
              "      <td>565.798094</td>\n",
              "      <td>569.942879</td>\n",
              "      <td>569.147141</td>\n",
              "      <td>529.489303</td>\n",
              "      <td>544.597158</td>\n",
              "    </tr>\n",
              "    <tr>\n",
              "      <th>std</th>\n",
              "      <td>96.596624</td>\n",
              "      <td>102.293095</td>\n",
              "      <td>112.595368</td>\n",
              "      <td>95.166847</td>\n",
              "      <td>91.224084</td>\n",
              "      <td>111.385700</td>\n",
              "      <td>99.464651</td>\n",
              "      <td>87.436377</td>\n",
              "    </tr>\n",
              "    <tr>\n",
              "      <th>min</th>\n",
              "      <td>245.000000</td>\n",
              "      <td>252.000000</td>\n",
              "      <td>213.000000</td>\n",
              "      <td>198.000000</td>\n",
              "      <td>193.000000</td>\n",
              "      <td>266.000000</td>\n",
              "      <td>219.000000</td>\n",
              "      <td>219.000000</td>\n",
              "    </tr>\n",
              "    <tr>\n",
              "      <th>25%</th>\n",
              "      <td>471.000000</td>\n",
              "      <td>468.000000</td>\n",
              "      <td>465.000000</td>\n",
              "      <td>500.000000</td>\n",
              "      <td>508.000000</td>\n",
              "      <td>489.000000</td>\n",
              "      <td>463.000000</td>\n",
              "      <td>487.000000</td>\n",
              "    </tr>\n",
              "    <tr>\n",
              "      <th>50%</th>\n",
              "      <td>531.000000</td>\n",
              "      <td>531.000000</td>\n",
              "      <td>536.000000</td>\n",
              "      <td>565.000000</td>\n",
              "      <td>571.000000</td>\n",
              "      <td>563.000000</td>\n",
              "      <td>520.000000</td>\n",
              "      <td>547.000000</td>\n",
              "    </tr>\n",
              "    <tr>\n",
              "      <th>75%</th>\n",
              "      <td>597.000000</td>\n",
              "      <td>604.000000</td>\n",
              "      <td>616.000000</td>\n",
              "      <td>632.000000</td>\n",
              "      <td>633.000000</td>\n",
              "      <td>645.000000</td>\n",
              "      <td>586.000000</td>\n",
              "      <td>604.000000</td>\n",
              "    </tr>\n",
              "    <tr>\n",
              "      <th>max</th>\n",
              "      <td>1000.000000</td>\n",
              "      <td>1070.000000</td>\n",
              "      <td>1044.000000</td>\n",
              "      <td>908.000000</td>\n",
              "      <td>881.000000</td>\n",
              "      <td>922.000000</td>\n",
              "      <td>1123.000000</td>\n",
              "      <td>842.000000</td>\n",
              "    </tr>\n",
              "  </tbody>\n",
              "</table>\n",
              "</div>\n",
              "      <button class=\"colab-df-convert\" onclick=\"convertToInteractive('df-c1942942-4a17-4ded-b3da-4dbb46bd9850')\"\n",
              "              title=\"Convert this dataframe to an interactive table.\"\n",
              "              style=\"display:none;\">\n",
              "        \n",
              "  <svg xmlns=\"http://www.w3.org/2000/svg\" height=\"24px\"viewBox=\"0 0 24 24\"\n",
              "       width=\"24px\">\n",
              "    <path d=\"M0 0h24v24H0V0z\" fill=\"none\"/>\n",
              "    <path d=\"M18.56 5.44l.94 2.06.94-2.06 2.06-.94-2.06-.94-.94-2.06-.94 2.06-2.06.94zm-11 1L8.5 8.5l.94-2.06 2.06-.94-2.06-.94L8.5 2.5l-.94 2.06-2.06.94zm10 10l.94 2.06.94-2.06 2.06-.94-2.06-.94-.94-2.06-.94 2.06-2.06.94z\"/><path d=\"M17.41 7.96l-1.37-1.37c-.4-.4-.92-.59-1.43-.59-.52 0-1.04.2-1.43.59L10.3 9.45l-7.72 7.72c-.78.78-.78 2.05 0 2.83L4 21.41c.39.39.9.59 1.41.59.51 0 1.02-.2 1.41-.59l7.78-7.78 2.81-2.81c.8-.78.8-2.07 0-2.86zM5.41 20L4 18.59l7.72-7.72 1.47 1.35L5.41 20z\"/>\n",
              "  </svg>\n",
              "      </button>\n",
              "      \n",
              "  <style>\n",
              "    .colab-df-container {\n",
              "      display:flex;\n",
              "      flex-wrap:wrap;\n",
              "      gap: 12px;\n",
              "    }\n",
              "\n",
              "    .colab-df-convert {\n",
              "      background-color: #E8F0FE;\n",
              "      border: none;\n",
              "      border-radius: 50%;\n",
              "      cursor: pointer;\n",
              "      display: none;\n",
              "      fill: #1967D2;\n",
              "      height: 32px;\n",
              "      padding: 0 0 0 0;\n",
              "      width: 32px;\n",
              "    }\n",
              "\n",
              "    .colab-df-convert:hover {\n",
              "      background-color: #E2EBFA;\n",
              "      box-shadow: 0px 1px 2px rgba(60, 64, 67, 0.3), 0px 1px 3px 1px rgba(60, 64, 67, 0.15);\n",
              "      fill: #174EA6;\n",
              "    }\n",
              "\n",
              "    [theme=dark] .colab-df-convert {\n",
              "      background-color: #3B4455;\n",
              "      fill: #D2E3FC;\n",
              "    }\n",
              "\n",
              "    [theme=dark] .colab-df-convert:hover {\n",
              "      background-color: #434B5C;\n",
              "      box-shadow: 0px 1px 3px 1px rgba(0, 0, 0, 0.15);\n",
              "      filter: drop-shadow(0px 1px 2px rgba(0, 0, 0, 0.3));\n",
              "      fill: #FFFFFF;\n",
              "    }\n",
              "  </style>\n",
              "\n",
              "      <script>\n",
              "        const buttonEl =\n",
              "          document.querySelector('#df-c1942942-4a17-4ded-b3da-4dbb46bd9850 button.colab-df-convert');\n",
              "        buttonEl.style.display =\n",
              "          google.colab.kernel.accessAllowed ? 'block' : 'none';\n",
              "\n",
              "        async function convertToInteractive(key) {\n",
              "          const element = document.querySelector('#df-c1942942-4a17-4ded-b3da-4dbb46bd9850');\n",
              "          const dataTable =\n",
              "            await google.colab.kernel.invokeFunction('convertToInteractive',\n",
              "                                                     [key], {});\n",
              "          if (!dataTable) return;\n",
              "\n",
              "          const docLinkHtml = 'Like what you see? Visit the ' +\n",
              "            '<a target=\"_blank\" href=https://colab.research.google.com/notebooks/data_table.ipynb>data table notebook</a>'\n",
              "            + ' to learn more about interactive tables.';\n",
              "          element.innerHTML = '';\n",
              "          dataTable['output_type'] = 'display_data';\n",
              "          await google.colab.output.renderOutput(dataTable, element);\n",
              "          const docLink = document.createElement('div');\n",
              "          docLink.innerHTML = docLinkHtml;\n",
              "          element.appendChild(docLink);\n",
              "        }\n",
              "      </script>\n",
              "    </div>\n",
              "  </div>\n",
              "  "
            ],
            "text/plain": [
              "          score_bio     score_fis  ...     score_mat     score_ppu\n",
              "count  86570.000000  86570.000000  ...  86570.000000  86570.000000\n",
              "mean     537.140522    539.335312  ...    529.489303    544.597158\n",
              "std       96.596624    102.293095  ...     99.464651     87.436377\n",
              "min      245.000000    252.000000  ...    219.000000    219.000000\n",
              "25%      471.000000    468.000000  ...    463.000000    487.000000\n",
              "50%      531.000000    531.000000  ...    520.000000    547.000000\n",
              "75%      597.000000    604.000000  ...    586.000000    604.000000\n",
              "max     1000.000000   1070.000000  ...   1123.000000    842.000000\n",
              "\n",
              "[8 rows x 8 columns]"
            ]
          },
          "metadata": {},
          "execution_count": 23
        }
      ]
    },
    {
      "cell_type": "code",
      "source": [
        "saintek.corr()"
      ],
      "metadata": {
        "colab": {
          "base_uri": "https://localhost:8080/",
          "height": 300
        },
        "id": "ABKmh4aHs_pE",
        "outputId": "3d1c6cd8-4643-4866-b35f-c665f5ac9a33"
      },
      "execution_count": null,
      "outputs": [
        {
          "output_type": "execute_result",
          "data": {
            "text/html": [
              "\n",
              "  <div id=\"df-ae0503a9-2293-4045-9914-36d2bdd35843\">\n",
              "    <div class=\"colab-df-container\">\n",
              "      <div>\n",
              "<style scoped>\n",
              "    .dataframe tbody tr th:only-of-type {\n",
              "        vertical-align: middle;\n",
              "    }\n",
              "\n",
              "    .dataframe tbody tr th {\n",
              "        vertical-align: top;\n",
              "    }\n",
              "\n",
              "    .dataframe thead th {\n",
              "        text-align: right;\n",
              "    }\n",
              "</style>\n",
              "<table border=\"1\" class=\"dataframe\">\n",
              "  <thead>\n",
              "    <tr style=\"text-align: right;\">\n",
              "      <th></th>\n",
              "      <th>score_bio</th>\n",
              "      <th>score_fis</th>\n",
              "      <th>score_kim</th>\n",
              "      <th>score_kmb</th>\n",
              "      <th>score_kpu</th>\n",
              "      <th>score_kua</th>\n",
              "      <th>score_mat</th>\n",
              "      <th>score_ppu</th>\n",
              "    </tr>\n",
              "  </thead>\n",
              "  <tbody>\n",
              "    <tr>\n",
              "      <th>score_bio</th>\n",
              "      <td>1.000000</td>\n",
              "      <td>0.219543</td>\n",
              "      <td>0.303343</td>\n",
              "      <td>0.277332</td>\n",
              "      <td>0.323925</td>\n",
              "      <td>0.322694</td>\n",
              "      <td>0.100950</td>\n",
              "      <td>0.205034</td>\n",
              "    </tr>\n",
              "    <tr>\n",
              "      <th>score_fis</th>\n",
              "      <td>0.219543</td>\n",
              "      <td>1.000000</td>\n",
              "      <td>0.309718</td>\n",
              "      <td>0.219473</td>\n",
              "      <td>0.276789</td>\n",
              "      <td>0.301138</td>\n",
              "      <td>0.152410</td>\n",
              "      <td>0.156658</td>\n",
              "    </tr>\n",
              "    <tr>\n",
              "      <th>score_kim</th>\n",
              "      <td>0.303343</td>\n",
              "      <td>0.309718</td>\n",
              "      <td>1.000000</td>\n",
              "      <td>0.282633</td>\n",
              "      <td>0.356424</td>\n",
              "      <td>0.397291</td>\n",
              "      <td>0.180875</td>\n",
              "      <td>0.184683</td>\n",
              "    </tr>\n",
              "    <tr>\n",
              "      <th>score_kmb</th>\n",
              "      <td>0.277332</td>\n",
              "      <td>0.219473</td>\n",
              "      <td>0.282633</td>\n",
              "      <td>1.000000</td>\n",
              "      <td>0.541723</td>\n",
              "      <td>0.363517</td>\n",
              "      <td>0.113200</td>\n",
              "      <td>0.308234</td>\n",
              "    </tr>\n",
              "    <tr>\n",
              "      <th>score_kpu</th>\n",
              "      <td>0.323925</td>\n",
              "      <td>0.276789</td>\n",
              "      <td>0.356424</td>\n",
              "      <td>0.541723</td>\n",
              "      <td>1.000000</td>\n",
              "      <td>0.474307</td>\n",
              "      <td>0.138873</td>\n",
              "      <td>0.433494</td>\n",
              "    </tr>\n",
              "    <tr>\n",
              "      <th>score_kua</th>\n",
              "      <td>0.322694</td>\n",
              "      <td>0.301138</td>\n",
              "      <td>0.397291</td>\n",
              "      <td>0.363517</td>\n",
              "      <td>0.474307</td>\n",
              "      <td>1.000000</td>\n",
              "      <td>0.187611</td>\n",
              "      <td>0.254579</td>\n",
              "    </tr>\n",
              "    <tr>\n",
              "      <th>score_mat</th>\n",
              "      <td>0.100950</td>\n",
              "      <td>0.152410</td>\n",
              "      <td>0.180875</td>\n",
              "      <td>0.113200</td>\n",
              "      <td>0.138873</td>\n",
              "      <td>0.187611</td>\n",
              "      <td>1.000000</td>\n",
              "      <td>0.048162</td>\n",
              "    </tr>\n",
              "    <tr>\n",
              "      <th>score_ppu</th>\n",
              "      <td>0.205034</td>\n",
              "      <td>0.156658</td>\n",
              "      <td>0.184683</td>\n",
              "      <td>0.308234</td>\n",
              "      <td>0.433494</td>\n",
              "      <td>0.254579</td>\n",
              "      <td>0.048162</td>\n",
              "      <td>1.000000</td>\n",
              "    </tr>\n",
              "  </tbody>\n",
              "</table>\n",
              "</div>\n",
              "      <button class=\"colab-df-convert\" onclick=\"convertToInteractive('df-ae0503a9-2293-4045-9914-36d2bdd35843')\"\n",
              "              title=\"Convert this dataframe to an interactive table.\"\n",
              "              style=\"display:none;\">\n",
              "        \n",
              "  <svg xmlns=\"http://www.w3.org/2000/svg\" height=\"24px\"viewBox=\"0 0 24 24\"\n",
              "       width=\"24px\">\n",
              "    <path d=\"M0 0h24v24H0V0z\" fill=\"none\"/>\n",
              "    <path d=\"M18.56 5.44l.94 2.06.94-2.06 2.06-.94-2.06-.94-.94-2.06-.94 2.06-2.06.94zm-11 1L8.5 8.5l.94-2.06 2.06-.94-2.06-.94L8.5 2.5l-.94 2.06-2.06.94zm10 10l.94 2.06.94-2.06 2.06-.94-2.06-.94-.94-2.06-.94 2.06-2.06.94z\"/><path d=\"M17.41 7.96l-1.37-1.37c-.4-.4-.92-.59-1.43-.59-.52 0-1.04.2-1.43.59L10.3 9.45l-7.72 7.72c-.78.78-.78 2.05 0 2.83L4 21.41c.39.39.9.59 1.41.59.51 0 1.02-.2 1.41-.59l7.78-7.78 2.81-2.81c.8-.78.8-2.07 0-2.86zM5.41 20L4 18.59l7.72-7.72 1.47 1.35L5.41 20z\"/>\n",
              "  </svg>\n",
              "      </button>\n",
              "      \n",
              "  <style>\n",
              "    .colab-df-container {\n",
              "      display:flex;\n",
              "      flex-wrap:wrap;\n",
              "      gap: 12px;\n",
              "    }\n",
              "\n",
              "    .colab-df-convert {\n",
              "      background-color: #E8F0FE;\n",
              "      border: none;\n",
              "      border-radius: 50%;\n",
              "      cursor: pointer;\n",
              "      display: none;\n",
              "      fill: #1967D2;\n",
              "      height: 32px;\n",
              "      padding: 0 0 0 0;\n",
              "      width: 32px;\n",
              "    }\n",
              "\n",
              "    .colab-df-convert:hover {\n",
              "      background-color: #E2EBFA;\n",
              "      box-shadow: 0px 1px 2px rgba(60, 64, 67, 0.3), 0px 1px 3px 1px rgba(60, 64, 67, 0.15);\n",
              "      fill: #174EA6;\n",
              "    }\n",
              "\n",
              "    [theme=dark] .colab-df-convert {\n",
              "      background-color: #3B4455;\n",
              "      fill: #D2E3FC;\n",
              "    }\n",
              "\n",
              "    [theme=dark] .colab-df-convert:hover {\n",
              "      background-color: #434B5C;\n",
              "      box-shadow: 0px 1px 3px 1px rgba(0, 0, 0, 0.15);\n",
              "      filter: drop-shadow(0px 1px 2px rgba(0, 0, 0, 0.3));\n",
              "      fill: #FFFFFF;\n",
              "    }\n",
              "  </style>\n",
              "\n",
              "      <script>\n",
              "        const buttonEl =\n",
              "          document.querySelector('#df-ae0503a9-2293-4045-9914-36d2bdd35843 button.colab-df-convert');\n",
              "        buttonEl.style.display =\n",
              "          google.colab.kernel.accessAllowed ? 'block' : 'none';\n",
              "\n",
              "        async function convertToInteractive(key) {\n",
              "          const element = document.querySelector('#df-ae0503a9-2293-4045-9914-36d2bdd35843');\n",
              "          const dataTable =\n",
              "            await google.colab.kernel.invokeFunction('convertToInteractive',\n",
              "                                                     [key], {});\n",
              "          if (!dataTable) return;\n",
              "\n",
              "          const docLinkHtml = 'Like what you see? Visit the ' +\n",
              "            '<a target=\"_blank\" href=https://colab.research.google.com/notebooks/data_table.ipynb>data table notebook</a>'\n",
              "            + ' to learn more about interactive tables.';\n",
              "          element.innerHTML = '';\n",
              "          dataTable['output_type'] = 'display_data';\n",
              "          await google.colab.output.renderOutput(dataTable, element);\n",
              "          const docLink = document.createElement('div');\n",
              "          docLink.innerHTML = docLinkHtml;\n",
              "          element.appendChild(docLink);\n",
              "        }\n",
              "      </script>\n",
              "    </div>\n",
              "  </div>\n",
              "  "
            ],
            "text/plain": [
              "           score_bio  score_fis  score_kim  ...  score_kua  score_mat  score_ppu\n",
              "score_bio   1.000000   0.219543   0.303343  ...   0.322694   0.100950   0.205034\n",
              "score_fis   0.219543   1.000000   0.309718  ...   0.301138   0.152410   0.156658\n",
              "score_kim   0.303343   0.309718   1.000000  ...   0.397291   0.180875   0.184683\n",
              "score_kmb   0.277332   0.219473   0.282633  ...   0.363517   0.113200   0.308234\n",
              "score_kpu   0.323925   0.276789   0.356424  ...   0.474307   0.138873   0.433494\n",
              "score_kua   0.322694   0.301138   0.397291  ...   1.000000   0.187611   0.254579\n",
              "score_mat   0.100950   0.152410   0.180875  ...   0.187611   1.000000   0.048162\n",
              "score_ppu   0.205034   0.156658   0.184683  ...   0.254579   0.048162   1.000000\n",
              "\n",
              "[8 rows x 8 columns]"
            ]
          },
          "metadata": {},
          "execution_count": 24
        }
      ]
    },
    {
      "cell_type": "code",
      "source": [
        "plot_kmb = sns.displot(data=saintek, x='score_kmb', kde=True)"
      ],
      "metadata": {
        "colab": {
          "base_uri": "https://localhost:8080/",
          "height": 369
        },
        "id": "r0VDr01By6om",
        "outputId": "95de9b86-12da-4676-a3fa-24dfc7dc4816"
      },
      "execution_count": null,
      "outputs": [
        {
          "output_type": "display_data",
          "data": {
            "image/png": "[encoded data removed]",
            "text/plain": [
              "<Figure size 360x360 with 1 Axes>"
            ]
          },
          "metadata": {
            "needs_background": "light"
          }
        }
      ]
    },
    {
      "cell_type": "code",
      "source": [
        "plot_kpu = sns.displot(data=saintek, x='score_kpu', kde=True)"
      ],
      "metadata": {
        "colab": {
          "base_uri": "https://localhost:8080/",
          "height": 369
        },
        "id": "mTSQbggS0AJD",
        "outputId": "4042778c-343c-498b-8970-ad02faf94d4a"
      },
      "execution_count": null,
      "outputs": [
        {
          "output_type": "display_data",
          "data": {
            "image/png": "[encoded data removed]",
            "text/plain": [
              "<Figure size 360x360 with 1 Axes>"
            ]
          },
          "metadata": {
            "needs_background": "light"
          }
        }
      ]
    },
    {
      "cell_type": "code",
      "source": [
        "plot_ppu = sns.displot(data=saintek, x='score_ppu', kde=True)"
      ],
      "metadata": {
        "colab": {
          "base_uri": "https://localhost:8080/",
          "height": 369
        },
        "id": "pOAlklZu0UTq",
        "outputId": "bca2ced1-85e7-491f-9cec-956dba4bfdb5"
      },
      "execution_count": null,
      "outputs": [
        {
          "output_type": "display_data",
          "data": {
            "image/png": "[encoded data removed]",
            "text/plain": [
              "<Figure size 360x360 with 1 Axes>"
            ]
          },
          "metadata": {
            "needs_background": "light"
          }
        }
      ]
    },
    {
      "cell_type": "code",
      "source": [
        "plot_kua = sns.displot(data=saintek, x='score_kua', kde=True)"
      ],
      "metadata": {
        "colab": {
          "base_uri": "https://localhost:8080/",
          "height": 369
        },
        "id": "9IpRH3Qk0i9u",
        "outputId": "e633bc5c-cc91-43b1-fa5c-995474852e32"
      },
      "execution_count": null,
      "outputs": [
        {
          "output_type": "display_data",
          "data": {
            "image/png": "[encoded data removed]",
            "text/plain": [
              "<Figure size 360x360 with 1 Axes>"
            ]
          },
          "metadata": {
            "needs_background": "light"
          }
        }
      ]
    },
    {
      "cell_type": "code",
      "source": [
        "plot_mat = sns.displot(data=saintek, x='score_mat', kde=True)"
      ],
      "metadata": {
        "colab": {
          "base_uri": "https://localhost:8080/",
          "height": 369
        },
        "id": "Hj7pQFOf3Zb0",
        "outputId": "4625de5a-ca3d-4819-cf9e-5fccf5272034"
      },
      "execution_count": null,
      "outputs": [
        {
          "output_type": "display_data",
          "data": {
            "image/png": "[encoded data removed]",
            "text/plain": [
              "<Figure size 360x360 with 1 Axes>"
            ]
          },
          "metadata": {
            "needs_background": "light"
          }
        }
      ]
    },
    {
      "cell_type": "code",
      "source": [
        "plot_fis = sns.displot(data=saintek, x='score_fis', kde=True)"
      ],
      "metadata": {
        "colab": {
          "base_uri": "https://localhost:8080/",
          "height": 369
        },
        "id": "cBXJraLq3m3M",
        "outputId": "236acd00-c7a6-4a24-9e4e-7d26f9265fe3"
      },
      "execution_count": null,
      "outputs": [
        {
          "output_type": "display_data",
          "data": {
            "image/png": "[encoded data removed]",
            "text/plain": [
              "<Figure size 360x360 with 1 Axes>"
            ]
          },
          "metadata": {
            "needs_background": "light"
          }
        }
      ]
    },
    {
      "cell_type": "code",
      "source": [
        "plot_kim = sns.displot(data=saintek, x='score_kim', kde=True)"
      ],
      "metadata": {
        "colab": {
          "base_uri": "https://localhost:8080/",
          "height": 369
        },
        "id": "ueBCtMiA4D04",
        "outputId": "7ae56293-4af2-4fb1-a224-7a81a782e248"
      },
      "execution_count": null,
      "outputs": [
        {
          "output_type": "display_data",
          "data": {
            "image/png": "[encoded data removed]",
            "text/plain": [
              "<Figure size 360x360 with 1 Axes>"
            ]
          },
          "metadata": {
            "needs_background": "light"
          }
        }
      ]
    },
    {
      "cell_type": "code",
      "source": [
        "plot_bio = sns.displot(data=saintek, x='score_bio', kde=True)"
      ],
      "metadata": {
        "id": "C5lpONrW4HHD",
        "outputId": "6acbd23e-d808-4975-cf69-1afc97fd806b",
        "colab": {
          "base_uri": "https://localhost:8080/",
          "height": 369
        }
      },
      "execution_count": null,
      "outputs": [
        {
          "output_type": "display_data",
          "data": {
            "image/png": "[encoded data removed]",
            "text/plain": [
              "<Figure size 360x360 with 1 Axes>"
            ]
          },
          "metadata": {
            "needs_background": "light"
          }
        }
      ]
    },
    {
      "cell_type": "code",
      "source": [
        ""
      ],
      "metadata": {
        "id": "bT44KJ9s4Kr5"
      },
      "execution_count": null,
      "outputs": []
    }
  ]
}